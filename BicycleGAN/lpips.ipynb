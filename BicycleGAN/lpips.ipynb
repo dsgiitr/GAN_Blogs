{
  "nbformat": 4,
  "nbformat_minor": 0,
  "metadata": {
    "colab": {
      "name": "lpips.ipynb",
      "provenance": []
    },
    "kernelspec": {
      "name": "python3",
      "display_name": "Python 3"
    }
  },
  "cells": [
    {
      "cell_type": "markdown",
      "metadata": {
        "id": "igBiwwXX-ij6"
      },
      "source": [
        "<h1>Learned Perceptual Image Patch Similarity (LPIPS) metric</h1>\r\n",
        "\r\n",
        "---\r\n",
        "Criteria to evaluate diversity among images. Evaluate the distance between image patches. Higher means further/more different. Lower means more similar.\r\n",
        "It can also be used as a <b>perceptual loss</b>\r\n"
      ]
    },
    {
      "cell_type": "code",
      "metadata": {
        "id": "cSByoMHmm_9a"
      },
      "source": [
        "import lpips\r\n",
        "import os\r\n",
        "import glob\r\n",
        "from PIL import Image\r\n",
        "import matplotlib.pyplot as plt\r\n",
        "\r\n",
        "import torch\r\n",
        "from torch.utils.data import Dataset\r\n",
        "from torch.utils.data import DataLoader\r\n",
        "import torchvision.transforms as transforms\r\n",
        "USE_CUDA = torch.cuda.is_available()\r\n",
        "device = torch.device(\"cuda\" if USE_CUDA else \"cpu\")"
      ],
      "execution_count": 58,
      "outputs": []
    },
    {
      "cell_type": "markdown",
      "metadata": {
        "id": "BXsteOBSFdoD"
      },
      "source": [
        "Pretrained are used as a “perceptual loss\" in image generation applications\r\n",
        "(Here alexnet or vgg) "
      ]
    },
    {
      "cell_type": "code",
      "metadata": {
        "colab": {
          "base_uri": "https://localhost:8080/"
        },
        "id": "Wgy3s8KAnJe5",
        "outputId": "b1dd5ea4-17d5-45aa-a051-2fdda83f2e04"
      },
      "source": [
        "loss_fn_alex = lpips.LPIPS(net='alex') # best forward scores\r\n",
        "loss_fn_vgg = lpips.LPIPS(net='vgg') # closer to \"traditional\" perceptual loss, when used for optimization"
      ],
      "execution_count": 51,
      "outputs": [
        {
          "output_type": "stream",
          "text": [
            "Setting up [LPIPS] perceptual loss: trunk [alex], v[0.1], spatial [off]\n",
            "Loading model from: /usr/local/lib/python3.6/dist-packages/lpips/weights/v0.1/alex.pth\n",
            "Setting up [LPIPS] perceptual loss: trunk [vgg], v[0.1], spatial [off]\n",
            "Loading model from: /usr/local/lib/python3.6/dist-packages/lpips/weights/v0.1/vgg.pth\n"
          ],
          "name": "stdout"
        }
      ]
    },
    {
      "cell_type": "code",
      "metadata": {
        "colab": {
          "base_uri": "https://localhost:8080/"
        },
        "id": "tWZ8hzXIGw8L",
        "outputId": "657f5e65-9b50-4ad1-b814-39ead8be9cbb"
      },
      "source": [
        "data_path = os.path.join(\"Output_images\", \"edges2shoes\")\r\n",
        "print(data_path)"
      ],
      "execution_count": 55,
      "outputs": [
        {
          "output_type": "stream",
          "text": [
            "Output_images/edges2shoes\n"
          ],
          "name": "stdout"
        }
      ]
    },
    {
      "cell_type": "code",
      "metadata": {
        "id": "o4BgAV0wKv1-"
      },
      "source": [
        "class Results(Dataset):\r\n",
        "  def __init__(self, root):\r\n",
        "        self.transform = transforms.Compose(\r\n",
        "            [\r\n",
        "                transforms.ToTensor(),\r\n",
        "            ]\r\n",
        "        )\r\n",
        "        self.files = (glob.glob(root + \"/*.*\"))\r\n",
        "  def __getitem__(self, index):\r\n",
        "    img = Image.open(self.files[index % len(self.files)])\r\n",
        "    img = self.transform(img)\r\n",
        "    return img\r\n",
        "\r\n",
        "  def __len__(self):\r\n",
        "        return len(self.files)\r\n",
        "    "
      ],
      "execution_count": 56,
      "outputs": []
    },
    {
      "cell_type": "code",
      "metadata": {
        "id": "TRpo89o_UQ6V"
      },
      "source": [
        "dataloader = DataLoader(\r\n",
        "    Results(data_path),\r\n",
        "    batch_size=1,\r\n",
        "    shuffle=False\r\n",
        ")"
      ],
      "execution_count": 57,
      "outputs": []
    },
    {
      "cell_type": "markdown",
      "metadata": {
        "id": "5bGwf8OPDYu7"
      },
      "source": [
        "After every 400 batches of training, we took a batch of 8 images from validation dataset. For each image generator produced 8 variants. For each image\r\n",
        "we took all the 28 pairs possible and calculated the avg lpips distance between them. Then we took avg over all the 8 images."
      ]
    },
    {
      "cell_type": "code",
      "metadata": {
        "id": "LumMS3sQi49i"
      },
      "source": [
        "div=[]     #list to store lpips distance after every 400 batches trained        \r\n",
        "batches=[] #list of batches \r\n",
        "for batch in enumerate(dataloader):\r\n",
        "  distance=0\r\n",
        "  imgs_8=torch.split(batch[1],128,2)\r\n",
        "  for img_8 in imgs_8:\r\n",
        "    temp=0\r\n",
        "    var=torch.split(img_8,128,3)\r\n",
        "    for i in range(1,9):\r\n",
        "      for j in range(i+1,9):\r\n",
        "        img0=var[i]\r\n",
        "        img1=var[j]\r\n",
        "        diversity=loss_fn_alex(img0, img1)\r\n",
        "        temp=(temp+diversity.item())\r\n",
        "    distance=(distance+(temp/28))\r\n",
        "  batches.append(batch[0]*400)\r\n",
        "  div.append(distance/8)\r\n"
      ],
      "execution_count": 27,
      "outputs": []
    },
    {
      "cell_type": "code",
      "metadata": {
        "colab": {
          "base_uri": "https://localhost:8080/",
          "height": 283
        },
        "id": "7tfN2JZvQeP5",
        "outputId": "efc3eda6-7533-46e7-b9e6-5a84ea09709d"
      },
      "source": [
        "plt.plot(batches,div)\r\n",
        "plt.axis([0, 175000, 0, 0.4])\r\n",
        "plt.xlabel('Number of batches trained')\r\n",
        "plt.ylabel('Avg Lpips distance (DIVERSITY)')\r\n",
        "plt.show()"
      ],
      "execution_count": 59,
      "outputs": [
        {
          "output_type": "display_data",
          "data": {
            "image/png": "[encoded data removed]",
            "text/plain": [
              "<Figure size 432x288 with 1 Axes>"
            ]
          },
          "metadata": {
            "tags": [],
            "needs_background": "light"
          }
        }
      ]
    },
    {
      "cell_type": "markdown",
      "metadata": {
        "id": "aegvUhjhHJBJ"
      },
      "source": [
        "Random pairs of ground truth real images in the B ∈ B\r\n",
        "domain produce an average variation of .262 (as illustrated in paper of bicyclegan) <br>\r\n",
        "As we can see from the plot, our generated images have diversity close enough to real images."
      ]
    }
  ]
}